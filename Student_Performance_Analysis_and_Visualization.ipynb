{
  "nbformat": 4,
  "nbformat_minor": 0,
  "metadata": {
    "colab": {
      "provenance": []
    },
    "kernelspec": {
      "name": "python3",
      "display_name": "Python 3"
    },
    "language_info": {
      "name": "python"
    }
  },
  "cells": [
    {
      "cell_type": "code",
      "source": [
        "import pandas as pd\n",
        "file_path='/content/student_performance.csv'\n",
        "df=pd.read_csv(file_path)\n",
        "\n",
        "\n",
        "new_rows = {\n",
        "    \"Student Name\": \"kabir\", \"Student ID\": \"11\", \"Subject\":\"Art\", \"Score\":\"83\", \"Attendence Percentage\": \"99\"\n",
        "     }\n",
        "new_df=pd.DataFrame([new_rows])\n",
        "df=pd.concat([df, new_df], ignore_index=True)\n",
        "print(df)\n",
        "\n",
        "\n"
      ],
      "metadata": {
        "colab": {
          "base_uri": "https://localhost:8080/"
        },
        "id": "rr01T3PRm2F_",
        "outputId": "73fb62ad-0ead-4523-96f2-cdff0852a9af"
      },
      "execution_count": 8,
      "outputs": [
        {
          "output_type": "stream",
          "name": "stdout",
          "text": [
            "   Student Name Student ID  Subject Score Attendence Percentage  \\\n",
            "0         Rahim          1     Math    90                    96   \n",
            "1         Karim          2  Science    88                    82   \n",
            "2         Salam          3     Math    76                    75   \n",
            "3         Kamal          4  English    85                    93   \n",
            "4         Jamal          5   Bangla    82                    90   \n",
            "5         Rafiq          6  Science    94                    95   \n",
            "6        Shafiq          7  Science    79                    87   \n",
            "7        Rahima          8     Math    95                    91   \n",
            "8        Karima          9  English    88                    76   \n",
            "9        Jamila         10   Bangla    73                    89   \n",
            "10        kabir         11      Art    83                    99   \n",
            "\n",
            "   Assignment completion  \n",
            "0                    yes  \n",
            "1                    yes  \n",
            "2                     no  \n",
            "3                    yes  \n",
            "4                    yes  \n",
            "5                     no  \n",
            "6                    yes  \n",
            "7                    yes  \n",
            "8                     no  \n",
            "9                    yes  \n",
            "10                   NaN  \n"
          ]
        }
      ]
    },
    {
      "cell_type": "code",
      "source": [
        "df.to_csv('students_performance_new.csv', index=False)\n",
        "print(df)"
      ],
      "metadata": {
        "colab": {
          "base_uri": "https://localhost:8080/"
        },
        "id": "KRxWU9knQ1ZU",
        "outputId": "d0c72987-817f-4a6f-b589-f11ee2c33e04"
      },
      "execution_count": 11,
      "outputs": [
        {
          "output_type": "stream",
          "name": "stdout",
          "text": [
            "   Student Name Student ID  Subject Score Attendence Percentage  \\\n",
            "0         Rahim          1     Math    90                    96   \n",
            "1         Karim          2  Science    88                    82   \n",
            "2         Salam          3     Math    76                    75   \n",
            "3         Kamal          4  English    85                    93   \n",
            "4         Jamal          5   Bangla    82                    90   \n",
            "5         Rafiq          6  Science    94                    95   \n",
            "6        Shafiq          7  Science    79                    87   \n",
            "7        Rahima          8     Math    95                    91   \n",
            "8        Karima          9  English    88                    76   \n",
            "9        Jamila         10   Bangla    73                    89   \n",
            "10        kabir         11      Art    83                    99   \n",
            "\n",
            "   Assignment completion  \n",
            "0                    yes  \n",
            "1                    yes  \n",
            "2                     no  \n",
            "3                    yes  \n",
            "4                    yes  \n",
            "5                     no  \n",
            "6                    yes  \n",
            "7                    yes  \n",
            "8                     no  \n",
            "9                    yes  \n",
            "10                   NaN  \n"
          ]
        }
      ]
    }
  ]
}