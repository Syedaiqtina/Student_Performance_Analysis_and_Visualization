{
  "nbformat": 4,
  "nbformat_minor": 0,
  "metadata": {
    "colab": {
      "provenance": []
    },
    "kernelspec": {
      "name": "python3",
      "display_name": "Python 3"
    },
    "language_info": {
      "name": "python"
    }
  },
  "cells": [
    {
      "cell_type": "code",
      "source": [
        "import pandas as pd\n",
        "file_path='/content/student_performance.csv'\n",
        "df=pd.read_csv(file_path)\n",
        "\n",
        "\n",
        "new_rows = {\n",
        "    \"Student Name\": \"kabir\", \"Student ID\": \"STU-21\", \"Subject\":\"Art\", \"Score\":83, \"Attendence Percentage\": 99\n",
        "     }\n",
        "new_df=pd.DataFrame([new_rows])\n",
        "df=pd.concat([df, new_df], ignore_index=True)\n",
        "print(df)\n",
        "\n",
        "\n"
      ],
      "metadata": {
        "colab": {
          "base_uri": "https://localhost:8080/"
        },
        "id": "rr01T3PRm2F_",
        "outputId": "90d23c88-a949-40e2-aacf-1b262df0f9de"
      },
      "execution_count": 30,
      "outputs": [
        {
          "output_type": "stream",
          "name": "stdout",
          "text": [
            "   Student Name Student ID  Subject  Score  Attendence Percentage  \\\n",
            "0         Rahim      STU-1     Math     90                     96   \n",
            "1         Karim      STU-2  Science     88                     82   \n",
            "2         Salam      STU-3     Math     76                     75   \n",
            "3         Kamal      STU-4  English     85                     93   \n",
            "4         Jamal      STU-5   Bangla     82                     90   \n",
            "5         Rafiq      STU-6  Science     94                     78   \n",
            "6        Shafiq      STU-7  Science     79                     45   \n",
            "7        Rahima      STU-8     Math     95                     76   \n",
            "8        Karima      STU-9  English     88                     76   \n",
            "9        Jamila     STU-10   Bangla     73                     86   \n",
            "10        Rahim     STU-11   Bangla     67                     56   \n",
            "11        Karim     STU-12  English     89                     98   \n",
            "12        Salam     STU-13   Bangla     76                     76   \n",
            "13        Kamal     STU-14     Math     41                     89   \n",
            "14        Jamal     STU-15  Science     56                     85   \n",
            "15        Rafiq     STU-16     Math     84                     87   \n",
            "16       Shafiq     STU-17     Math     55                     96   \n",
            "17       Rahima     STU-18  English     66                     99   \n",
            "18       Karima     STU-19  Science     73                     90   \n",
            "19        kabir     STU-21      Art     83                     99   \n",
            "\n",
            "   Assignment completion  \n",
            "0                    yes  \n",
            "1                    yes  \n",
            "2                     no  \n",
            "3                    yes  \n",
            "4                    yes  \n",
            "5                     no  \n",
            "6                    yes  \n",
            "7                    yes  \n",
            "8                     no  \n",
            "9                    yes  \n",
            "10                    no  \n",
            "11                   yes  \n",
            "12                    no  \n",
            "13                   yes  \n",
            "14                   yes  \n",
            "15                   yes  \n",
            "16                   yes  \n",
            "17                   yes  \n",
            "18                    no  \n",
            "19                   NaN  \n"
          ]
        }
      ]
    },
    {
      "cell_type": "code",
      "source": [],
      "metadata": {
        "id": "YX_OnNUfmIHQ"
      },
      "execution_count": null,
      "outputs": []
    },
    {
      "cell_type": "code",
      "source": [
        "df.to_csv('students_performance_new.csv', index=False)\n",
        "print(df)"
      ],
      "metadata": {
        "colab": {
          "base_uri": "https://localhost:8080/"
        },
        "id": "KRxWU9knQ1ZU",
        "outputId": "151a7f82-6e91-4fa5-d7ee-ebb3d89c478f"
      },
      "execution_count": 9,
      "outputs": [
        {
          "output_type": "stream",
          "name": "stdout",
          "text": [
            "   Student Name Student ID  Subject  Score  Attendence Percentage  \\\n",
            "0         Rahim      STU-1     Math     90                     96   \n",
            "1         Karim      STU-2  Science     88                     82   \n",
            "2         Salam      STU-3     Math     76                     75   \n",
            "3         Kamal      STU-4  English     85                     93   \n",
            "4         Jamal      STU-5   Bangla     82                     90   \n",
            "5         Rafiq      STU-6  Science     94                     78   \n",
            "6        Shafiq      STU-7  Science     79                     45   \n",
            "7        Rahima      STU-8     Math     95                     76   \n",
            "8        Karima      STU-9  English     88                     76   \n",
            "9        Jamila     STU-10   Bangla     73                     86   \n",
            "10        Rahim     STU-11   Bangla     67                     56   \n",
            "11        Karim     STU-12  English     89                     98   \n",
            "12        Salam     STU-13   Bangla     76                     76   \n",
            "13        Kamal     STU-14     Math     41                     89   \n",
            "14        Jamal     STU-15  Science     56                     85   \n",
            "15        Rafiq     STU-16     Math     84                     87   \n",
            "16       Shafiq     STU-17     Math     55                     96   \n",
            "17       Rahima     STU-18  English     66                     99   \n",
            "18       Karima     STU-19  Science     73                     90   \n",
            "19        kabir     STU-11      Art     83                     99   \n",
            "\n",
            "   Assignment completion  \n",
            "0                    yes  \n",
            "1                    yes  \n",
            "2                     no  \n",
            "3                    yes  \n",
            "4                    yes  \n",
            "5                     no  \n",
            "6                    yes  \n",
            "7                    yes  \n",
            "8                     no  \n",
            "9                    yes  \n",
            "10                    no  \n",
            "11                   yes  \n",
            "12                    no  \n",
            "13                   yes  \n",
            "14                   yes  \n",
            "15                   yes  \n",
            "16                   yes  \n",
            "17                   yes  \n",
            "18                    no  \n",
            "19                   NaN  \n"
          ]
        }
      ]
    },
    {
      "cell_type": "code",
      "source": [
        "average_score=df[\"Score\"].mean()\n",
        "min_score=df[\"Score\"].min()\n",
        "max_score=df[\"Score\"].max()\n",
        "print(\"Average score:\", average_score)\n",
        "print(\"Minimum Score:\", min_score)\n",
        "print(\"Maximum Score:\", max_score)"
      ],
      "metadata": {
        "colab": {
          "base_uri": "https://localhost:8080/"
        },
        "id": "GJ1i3ks6kI2W",
        "outputId": "4f9d949c-2eea-43e5-b6fe-4228313d3f4a"
      },
      "execution_count": 10,
      "outputs": [
        {
          "output_type": "stream",
          "name": "stdout",
          "text": [
            "Average score: 77.0\n",
            "Minimum Score: 41\n",
            "Maximum Score: 95\n"
          ]
        }
      ]
    },
    {
      "cell_type": "code",
      "source": [
        "low_attendence=df[df[\"Attendence Percentage\"]<=75]\n",
        "print(low_attendence)\n",
        "missing_attendence=df[df[\"Attendence Percentage\"]==0]\n",
        "print(missing_attendence)"
      ],
      "metadata": {
        "colab": {
          "base_uri": "https://localhost:8080/"
        },
        "id": "kBNaooU8kckG",
        "outputId": "7c65a9db-0fa6-416d-a368-b9f400c63579"
      },
      "execution_count": 11,
      "outputs": [
        {
          "output_type": "stream",
          "name": "stdout",
          "text": [
            "   Student Name Student ID  Subject  Score  Attendence Percentage  \\\n",
            "2         Salam      STU-3     Math     76                     75   \n",
            "6        Shafiq      STU-7  Science     79                     45   \n",
            "10        Rahim     STU-11   Bangla     67                     56   \n",
            "\n",
            "   Assignment completion  \n",
            "2                     no  \n",
            "6                    yes  \n",
            "10                    no  \n",
            "Empty DataFrame\n",
            "Columns: [Student Name, Student ID, Subject, Score, Attendence Percentage, Assignment completion]\n",
            "Index: []\n"
          ]
        }
      ]
    },
    {
      "cell_type": "code",
      "source": [
        "failing_students=df[df[\"Score\"]<40]\n",
        "print(failing_students)"
      ],
      "metadata": {
        "colab": {
          "base_uri": "https://localhost:8080/"
        },
        "id": "ScWQwaW1lw_U",
        "outputId": "74083d29-42ea-4677-bf0e-177644f22241"
      },
      "execution_count": 12,
      "outputs": [
        {
          "output_type": "stream",
          "name": "stdout",
          "text": [
            "Empty DataFrame\n",
            "Columns: [Student Name, Student ID, Subject, Score, Attendence Percentage, Assignment completion]\n",
            "Index: []\n"
          ]
        }
      ]
    },
    {
      "cell_type": "code",
      "source": [
        "df[\"Score\"]=df[\"Score\"].astype(int)\n",
        "print(\"Dta types after conversion:\")\n",
        "print(df.dtypes)"
      ],
      "metadata": {
        "colab": {
          "base_uri": "https://localhost:8080/"
        },
        "id": "sLuBhy5VmAJh",
        "outputId": "5b0fe81b-3a34-4b0e-8878-65f46b2830a5"
      },
      "execution_count": 13,
      "outputs": [
        {
          "output_type": "stream",
          "name": "stdout",
          "text": [
            "Dta types after conversion:\n",
            "Student Name             object\n",
            "Student ID               object\n",
            "Subject                  object\n",
            "Score                     int64\n",
            "Attendence Percentage     int64\n",
            "Assignment completion    object\n",
            "dtype: object\n"
          ]
        }
      ]
    },
    {
      "cell_type": "code",
      "source": [
        "import matplotlib.pyplot as plt\n",
        "subject_average_score=df.groupby(\"Subject\")[\"Score\"].mean()\n",
        "plt.bar(subject_average_score.index, subject_average_score.values)\n",
        "plt.xlabel(\"Subject\")\n",
        "plt.ylabel"
      ],
      "metadata": {
        "id": "oPxX9EbEn81X",
        "colab": {
          "base_uri": "https://localhost:8080/",
          "height": 653
        },
        "outputId": "c4156c3e-e26b-4b52-ba67-68da74f62d1b"
      },
      "execution_count": 14,
      "outputs": [
        {
          "output_type": "execute_result",
          "data": {
            "text/plain": [
              "<function matplotlib.pyplot.ylabel(ylabel: 'str', fontdict: 'dict[str, Any] | None' = None, labelpad: 'float | None' = None, *, loc: \"Literal['bottom', 'center', 'top'] | None\" = None, **kwargs) -> 'Text'>"
            ],
            "text/html": [
              "<div style=\"max-width:800px; border: 1px solid var(--colab-border-color);\"><style>\n",
              "      pre.function-repr-contents {\n",
              "        overflow-x: auto;\n",
              "        padding: 8px 12px;\n",
              "        max-height: 500px;\n",
              "      }\n",
              "\n",
              "      pre.function-repr-contents.function-repr-contents-collapsed {\n",
              "        cursor: pointer;\n",
              "        max-height: 100px;\n",
              "      }\n",
              "    </style>\n",
              "    <pre style=\"white-space: initial; background:\n",
              "         var(--colab-secondary-surface-color); padding: 8px 12px;\n",
              "         border-bottom: 1px solid var(--colab-border-color);\"><b>matplotlib.pyplot.ylabel</b><br/>def ylabel(ylabel: str, fontdict: dict[str, Any] | None=None, labelpad: float | None=None, *, loc: Literal[&#x27;bottom&#x27;, &#x27;center&#x27;, &#x27;top&#x27;] | None=None, **kwargs) -&gt; Text</pre><pre class=\"function-repr-contents function-repr-contents-collapsed\" style=\"\"><a class=\"filepath\" style=\"display:none\" href=\"#\">/usr/local/lib/python3.10/dist-packages/matplotlib/pyplot.py</a>Set the label for the y-axis.\n",
              "\n",
              "Parameters\n",
              "----------\n",
              "ylabel : str\n",
              "    The label text.\n",
              "\n",
              "labelpad : float, default: :rc:`axes.labelpad`\n",
              "    Spacing in points from the Axes bounding box including ticks\n",
              "    and tick labels.  If None, the previous value is left as is.\n",
              "\n",
              "loc : {&#x27;bottom&#x27;, &#x27;center&#x27;, &#x27;top&#x27;}, default: :rc:`yaxis.labellocation`\n",
              "    The label position. This is a high-level alternative for passing\n",
              "    parameters *y* and *horizontalalignment*.\n",
              "\n",
              "Other Parameters\n",
              "----------------\n",
              "**kwargs : `~matplotlib.text.Text` properties\n",
              "    `.Text` properties control the appearance of the label.\n",
              "\n",
              "See Also\n",
              "--------\n",
              "text : Documents the properties supported by `.Text`.</pre>\n",
              "      <script>\n",
              "      if (google.colab.kernel.accessAllowed && google.colab.files && google.colab.files.view) {\n",
              "        for (const element of document.querySelectorAll('.filepath')) {\n",
              "          element.style.display = 'block'\n",
              "          element.onclick = (event) => {\n",
              "            event.preventDefault();\n",
              "            event.stopPropagation();\n",
              "            google.colab.files.view(element.textContent, 4144);\n",
              "          };\n",
              "        }\n",
              "      }\n",
              "      for (const element of document.querySelectorAll('.function-repr-contents')) {\n",
              "        element.onclick = (event) => {\n",
              "          event.preventDefault();\n",
              "          event.stopPropagation();\n",
              "          element.classList.toggle('function-repr-contents-collapsed');\n",
              "        };\n",
              "      }\n",
              "      </script>\n",
              "      </div>"
            ]
          },
          "metadata": {},
          "execution_count": 14
        },
        {
          "output_type": "display_data",
          "data": {
            "text/plain": [
              "<Figure size 640x480 with 1 Axes>"
            ],
            "image/png": "[encoded data removed]"
          },
          "metadata": {}
        }
      ]
    },
    {
      "cell_type": "code",
      "source": [
        "attendence_percentage=df.groupby(\"Student Name\")[\"Attendence Percentage\"].mean()\n",
        "plt.bar(attendence_percentage.index, attendence_percentage.values)\n",
        "plt.xlabel(\"Student Name\")\n",
        "plt.ylabel(\"Attendence Percentage\")"
      ],
      "metadata": {
        "colab": {
          "base_uri": "https://localhost:8080/",
          "height": 466
        },
        "id": "VymSxLs7o_lI",
        "outputId": "ee5ff8a1-07bd-49f9-e8fa-e7d299b99d3e"
      },
      "execution_count": 15,
      "outputs": [
        {
          "output_type": "execute_result",
          "data": {
            "text/plain": [
              "Text(0, 0.5, 'Attendence Percentage')"
            ]
          },
          "metadata": {},
          "execution_count": 15
        },
        {
          "output_type": "display_data",
          "data": {
            "text/plain": [
              "<Figure size 640x480 with 1 Axes>"
            ],
            "image/png": "[encoded data removed]"
          },
          "metadata": {}
        }
      ]
    },
    {
      "source": [
        "import matplotlib.pyplot as plt\n",
        "import pandas as pd\n",
        "import numpy as np\n",
        "# ... (your previous code)\n",
        "\n",
        "attendence_percentage = df.groupby(\"Student Name\")[\"Attendence Percentage\"].mean()\n",
        "plt.figure(figsize=(12, 6))  # Adjust figure size if necessary\n",
        "\n",
        "x_pos = np.arange(len(attendence_percentage.index))\n",
        "width = 0.6 # width of each bar\n",
        "plt.bar(x_pos, attendence_percentage.values, width=width) # Adjust width as needed\n",
        "plt.xticks(x_pos + width / 2, attendence_percentage.index, rotation=45, ha='right')\n",
        "\n",
        "plt.xlabel(\"Student Name\")\n",
        "plt.ylabel(\"Attendence Percentage\")\n",
        "plt.show()"
      ],
      "cell_type": "code",
      "metadata": {
        "colab": {
          "base_uri": "https://localhost:8080/",
          "height": 380
        },
        "id": "ZEfK76lIpqMm",
        "outputId": "114f7557-a57b-45f4-8bc1-a03b4bfaf57d"
      },
      "execution_count": 16,
      "outputs": [
        {
          "output_type": "display_data",
          "data": {
            "text/plain": [
              "<Figure size 1200x600 with 1 Axes>"
            ],
            "image/png": "[encoded data removed]"
          },
          "metadata": {}
        }
      ]
    },
    {
      "cell_type": "code",
      "source": [
        "attendence_categories=pd.cut(df[\"Attendence Percentage\"], bins=[0, 50, 75, 100], labels=[\"low\", \"medium\", \"high\"])\n",
        "df[\"Attendence Category\"]=attendence_categories\n",
        "attendence_categories.value_counts().plot.pie(autopct=\"%1.1f%%\", title=\"Attendence Categories\")\n",
        "plt.show()"
      ],
      "metadata": {
        "colab": {
          "base_uri": "https://localhost:8080/",
          "height": 428
        },
        "id": "8ZZkxpt9qk2e",
        "outputId": "5dcb30ee-12c7-4072-fefd-6140141b82a1"
      },
      "execution_count": 18,
      "outputs": [
        {
          "output_type": "display_data",
          "data": {
            "text/plain": [
              "<Figure size 640x480 with 1 Axes>"
            ],
            "image/png": "[encoded data removed]"
          },
          "metadata": {}
        }
      ]
    },
    {
      "cell_type": "code",
      "source": [
        "student_data=df[df[\"Student Name\"]==\"Rahim\"]\n",
        "plt.plot(student_data[\"Subject\"], student_data[\"Score\"], marker=0)\n",
        "plt.title(\"Performance of kabir\")\n",
        "plt.xlabel(\"Subject\")\n",
        "plt.ylabel(\"Score\")\n",
        "print(student_data)"
      ],
      "metadata": {
        "colab": {
          "base_uri": "https://localhost:8080/",
          "height": 594
        },
        "id": "Q9hzeCLMu4uA",
        "outputId": "6590eaae-751c-417b-e97f-633d5587de5e"
      },
      "execution_count": 19,
      "outputs": [
        {
          "output_type": "stream",
          "name": "stdout",
          "text": [
            "   Student Name Student ID Subject  Score  Attendence Percentage  \\\n",
            "0         Rahim      STU-1    Math     90                     96   \n",
            "10        Rahim     STU-11  Bangla     67                     56   \n",
            "\n",
            "   Assignment completion Attendence Category  \n",
            "0                    yes                high  \n",
            "10                    no              medium  \n"
          ]
        },
        {
          "output_type": "display_data",
          "data": {
            "text/plain": [
              "<Figure size 640x480 with 1 Axes>"
            ],
            "image/png": "[encoded data removed]"
          },
          "metadata": {}
        }
      ]
    },
    {
      "cell_type": "code",
      "source": [
        "def calculate_aggregate_scores(df):\n",
        "    df['Aggregate Score'] = df.groupby('Student ID')['Score'].transform('sum')\n",
        "    return df\n",
        "agg=calculate_aggregate_scores(df)\n",
        "print(agg)\n"
      ],
      "metadata": {
        "colab": {
          "base_uri": "https://localhost:8080/"
        },
        "id": "VXoV4v8F4gnb",
        "outputId": "afdd34ab-1239-4f55-db36-8cb5a9d74d3a"
      },
      "execution_count": 20,
      "outputs": [
        {
          "output_type": "stream",
          "name": "stdout",
          "text": [
            "   Student Name Student ID  Subject  Score  Attendence Percentage  \\\n",
            "0         Rahim      STU-1     Math     90                     96   \n",
            "1         Karim      STU-2  Science     88                     82   \n",
            "2         Salam      STU-3     Math     76                     75   \n",
            "3         Kamal      STU-4  English     85                     93   \n",
            "4         Jamal      STU-5   Bangla     82                     90   \n",
            "5         Rafiq      STU-6  Science     94                     78   \n",
            "6        Shafiq      STU-7  Science     79                     45   \n",
            "7        Rahima      STU-8     Math     95                     76   \n",
            "8        Karima      STU-9  English     88                     76   \n",
            "9        Jamila     STU-10   Bangla     73                     86   \n",
            "10        Rahim     STU-11   Bangla     67                     56   \n",
            "11        Karim     STU-12  English     89                     98   \n",
            "12        Salam     STU-13   Bangla     76                     76   \n",
            "13        Kamal     STU-14     Math     41                     89   \n",
            "14        Jamal     STU-15  Science     56                     85   \n",
            "15        Rafiq     STU-16     Math     84                     87   \n",
            "16       Shafiq     STU-17     Math     55                     96   \n",
            "17       Rahima     STU-18  English     66                     99   \n",
            "18       Karima     STU-19  Science     73                     90   \n",
            "19        kabir     STU-11      Art     83                     99   \n",
            "\n",
            "   Assignment completion Attendence Category  Aggregate Score  \n",
            "0                    yes                high               90  \n",
            "1                    yes                high               88  \n",
            "2                     no              medium               76  \n",
            "3                    yes                high               85  \n",
            "4                    yes                high               82  \n",
            "5                     no                high               94  \n",
            "6                    yes                 low               79  \n",
            "7                    yes                high               95  \n",
            "8                     no                high               88  \n",
            "9                    yes                high               73  \n",
            "10                    no              medium              150  \n",
            "11                   yes                high               89  \n",
            "12                    no                high               76  \n",
            "13                   yes                high               41  \n",
            "14                   yes                high               56  \n",
            "15                   yes                high               84  \n",
            "16                   yes                high               55  \n",
            "17                   yes                high               66  \n",
            "18                    no                high               73  \n",
            "19                   NaN                high              150  \n"
          ]
        }
      ]
    },
    {
      "cell_type": "code",
      "source": [
        "def assign_grades(df):\n",
        "    def determine_grade(Aggregate_Score):\n",
        "        if Aggregate_Score >= 180:\n",
        "            return 'A+'\n",
        "        elif 160 <= Aggregate_Score < 180:\n",
        "            return 'A'\n",
        "        elif 140 <= Aggregate_Score < 160:\n",
        "            return 'B'\n",
        "        elif 140 <= Aggregate_Score < 120:\n",
        "            return 'C'\n",
        "        elif 120 <= Aggregate_Score < 100:\n",
        "            return 'D'\n",
        "        else:\n",
        "            return 'Fail'\n",
        "\n",
        "    df['Grade'] = df['Aggregate Score'].apply(determine_grade)\n",
        "    return df\n",
        "grade=assign_grades(df)\n",
        "print(grade)\n"
      ],
      "metadata": {
        "colab": {
          "base_uri": "https://localhost:8080/"
        },
        "id": "GHixM19Y8ULP",
        "outputId": "f0b682fc-ea56-439d-f42a-2feaef350587"
      },
      "execution_count": 21,
      "outputs": [
        {
          "output_type": "stream",
          "name": "stdout",
          "text": [
            "   Student Name Student ID  Subject  Score  Attendence Percentage  \\\n",
            "0         Rahim      STU-1     Math     90                     96   \n",
            "1         Karim      STU-2  Science     88                     82   \n",
            "2         Salam      STU-3     Math     76                     75   \n",
            "3         Kamal      STU-4  English     85                     93   \n",
            "4         Jamal      STU-5   Bangla     82                     90   \n",
            "5         Rafiq      STU-6  Science     94                     78   \n",
            "6        Shafiq      STU-7  Science     79                     45   \n",
            "7        Rahima      STU-8     Math     95                     76   \n",
            "8        Karima      STU-9  English     88                     76   \n",
            "9        Jamila     STU-10   Bangla     73                     86   \n",
            "10        Rahim     STU-11   Bangla     67                     56   \n",
            "11        Karim     STU-12  English     89                     98   \n",
            "12        Salam     STU-13   Bangla     76                     76   \n",
            "13        Kamal     STU-14     Math     41                     89   \n",
            "14        Jamal     STU-15  Science     56                     85   \n",
            "15        Rafiq     STU-16     Math     84                     87   \n",
            "16       Shafiq     STU-17     Math     55                     96   \n",
            "17       Rahima     STU-18  English     66                     99   \n",
            "18       Karima     STU-19  Science     73                     90   \n",
            "19        kabir     STU-11      Art     83                     99   \n",
            "\n",
            "   Assignment completion Attendence Category  Aggregate Score Grade  \n",
            "0                    yes                high               90  Fail  \n",
            "1                    yes                high               88  Fail  \n",
            "2                     no              medium               76  Fail  \n",
            "3                    yes                high               85  Fail  \n",
            "4                    yes                high               82  Fail  \n",
            "5                     no                high               94  Fail  \n",
            "6                    yes                 low               79  Fail  \n",
            "7                    yes                high               95  Fail  \n",
            "8                     no                high               88  Fail  \n",
            "9                    yes                high               73  Fail  \n",
            "10                    no              medium              150     B  \n",
            "11                   yes                high               89  Fail  \n",
            "12                    no                high               76  Fail  \n",
            "13                   yes                high               41  Fail  \n",
            "14                   yes                high               56  Fail  \n",
            "15                   yes                high               84  Fail  \n",
            "16                   yes                high               55  Fail  \n",
            "17                   yes                high               66  Fail  \n",
            "18                    no                high               73  Fail  \n",
            "19                   NaN                high              150     B  \n"
          ]
        }
      ]
    },
    {
      "cell_type": "code",
      "source": [
        "def generate_performance_report(df):\n",
        "    students = df['Student ID'].unique()\n",
        "    for student in students:\n",
        "        student_data = df[df['Student ID'] == student]\n",
        "        print(f\"Student ID: {student}\")\n",
        "        print(f\"Student Name: {student_data['Student Name'].iloc[0]}\")\n",
        "        print(f\"Subjects Taken: {', '.join(student_data['Subject'].tolist())}\")\n",
        "        print(f\"Aggregate Score: {student_data['Aggregate Score'].iloc[0]}\")\n",
        "        print(f\"Grade: {student_data['Grade'].iloc[0]}\")\n",
        "        print(\"-\" * 40)\n",
        "user_friendly_format=generate_performance_report(df)\n",
        "print(user_friendly_format)"
      ],
      "metadata": {
        "colab": {
          "base_uri": "https://localhost:8080/"
        },
        "id": "lSVso-uMALsr",
        "outputId": "86f459ba-0839-4789-b135-18b5910c5152"
      },
      "execution_count": 22,
      "outputs": [
        {
          "output_type": "stream",
          "name": "stdout",
          "text": [
            "Student ID: STU-1\n",
            "Student Name: Rahim\n",
            "Subjects Taken: Math\n",
            "Aggregate Score: 90\n",
            "Grade: Fail\n",
            "----------------------------------------\n",
            "Student ID: STU-2\n",
            "Student Name: Karim\n",
            "Subjects Taken: Science\n",
            "Aggregate Score: 88\n",
            "Grade: Fail\n",
            "----------------------------------------\n",
            "Student ID: STU-3\n",
            "Student Name: Salam\n",
            "Subjects Taken: Math\n",
            "Aggregate Score: 76\n",
            "Grade: Fail\n",
            "----------------------------------------\n",
            "Student ID: STU-4\n",
            "Student Name: Kamal\n",
            "Subjects Taken: English\n",
            "Aggregate Score: 85\n",
            "Grade: Fail\n",
            "----------------------------------------\n",
            "Student ID: STU-5\n",
            "Student Name: Jamal\n",
            "Subjects Taken: Bangla\n",
            "Aggregate Score: 82\n",
            "Grade: Fail\n",
            "----------------------------------------\n",
            "Student ID: STU-6\n",
            "Student Name: Rafiq\n",
            "Subjects Taken: Science\n",
            "Aggregate Score: 94\n",
            "Grade: Fail\n",
            "----------------------------------------\n",
            "Student ID: STU-7\n",
            "Student Name: Shafiq\n",
            "Subjects Taken: Science\n",
            "Aggregate Score: 79\n",
            "Grade: Fail\n",
            "----------------------------------------\n",
            "Student ID: STU-8\n",
            "Student Name: Rahima\n",
            "Subjects Taken: Math\n",
            "Aggregate Score: 95\n",
            "Grade: Fail\n",
            "----------------------------------------\n",
            "Student ID: STU-9\n",
            "Student Name: Karima\n",
            "Subjects Taken: English\n",
            "Aggregate Score: 88\n",
            "Grade: Fail\n",
            "----------------------------------------\n",
            "Student ID: STU-10\n",
            "Student Name: Jamila\n",
            "Subjects Taken: Bangla\n",
            "Aggregate Score: 73\n",
            "Grade: Fail\n",
            "----------------------------------------\n",
            "Student ID: STU-11\n",
            "Student Name: Rahim\n",
            "Subjects Taken: Bangla, Art\n",
            "Aggregate Score: 150\n",
            "Grade: B\n",
            "----------------------------------------\n",
            "Student ID: STU-12\n",
            "Student Name: Karim\n",
            "Subjects Taken: English\n",
            "Aggregate Score: 89\n",
            "Grade: Fail\n",
            "----------------------------------------\n",
            "Student ID: STU-13\n",
            "Student Name: Salam\n",
            "Subjects Taken: Bangla\n",
            "Aggregate Score: 76\n",
            "Grade: Fail\n",
            "----------------------------------------\n",
            "Student ID: STU-14\n",
            "Student Name: Kamal\n",
            "Subjects Taken: Math\n",
            "Aggregate Score: 41\n",
            "Grade: Fail\n",
            "----------------------------------------\n",
            "Student ID: STU-15\n",
            "Student Name: Jamal\n",
            "Subjects Taken: Science\n",
            "Aggregate Score: 56\n",
            "Grade: Fail\n",
            "----------------------------------------\n",
            "Student ID: STU-16\n",
            "Student Name: Rafiq\n",
            "Subjects Taken: Math\n",
            "Aggregate Score: 84\n",
            "Grade: Fail\n",
            "----------------------------------------\n",
            "Student ID: STU-17\n",
            "Student Name: Shafiq\n",
            "Subjects Taken: Math\n",
            "Aggregate Score: 55\n",
            "Grade: Fail\n",
            "----------------------------------------\n",
            "Student ID: STU-18\n",
            "Student Name: Rahima\n",
            "Subjects Taken: English\n",
            "Aggregate Score: 66\n",
            "Grade: Fail\n",
            "----------------------------------------\n",
            "Student ID: STU-19\n",
            "Student Name: Karima\n",
            "Subjects Taken: Science\n",
            "Aggregate Score: 73\n",
            "Grade: Fail\n",
            "----------------------------------------\n",
            "None\n"
          ]
        }
      ]
    },
    {
      "cell_type": "code",
      "source": [
        "# ---------------------------\n",
        "# Decorator: Log Function Calls\n",
        "# ---------------------------\n",
        "def log_function(func):\n",
        "    \"\"\"\n",
        "    A simple decorator to log when a function is called.\n",
        "    \"\"\"\n",
        "    def wrapper(*args, **kwargs):\n",
        "        print(f\"Function '{func.__name__}' is being executed...\")\n",
        "        result = func(*args, **kwargs)\n",
        "        print(f\"Function '{func.__name__}' executed successfully.\")\n",
        "        return result\n",
        "    return wrapper\n",
        "\n",
        "# Example Usage\n",
        "@log_function\n",
        "def example_function():\n",
        "    print(\"Example function logic executed.\")\n",
        "\n",
        "# Execute the function\n",
        "example_function()\n"
      ],
      "metadata": {
        "colab": {
          "base_uri": "https://localhost:8080/"
        },
        "id": "MqW07VXWOArP",
        "outputId": "36983eb8-e075-4e4a-a138-4bba8853aed1"
      },
      "execution_count": 23,
      "outputs": [
        {
          "output_type": "stream",
          "name": "stdout",
          "text": [
            "Function 'example_function' is being executed...\n",
            "Example function logic executed.\n",
            "Function 'example_function' executed successfully.\n"
          ]
        }
      ]
    },
    {
      "cell_type": "code",
      "source": [
        "# ---------------------------\n",
        "# Exception Handling Example\n",
        "# ---------------------------\n",
        "def safe_execute(func):\n",
        "    \"\"\"\n",
        "    Wraps a function to catch exceptions and print user-friendly messages.\n",
        "    \"\"\"\n",
        "    def wrapper(*args, **kwargs):\n",
        "        try:\n",
        "            return func(*args, **kwargs)\n",
        "        except Exception as e:\n",
        "            print(f\"An error occurred: {e}\")\n",
        "            return None\n",
        "    return wrapper\n",
        "\n",
        "# Example Usage\n",
        "@safe_execute\n",
        "def divide_numbers(a, b):\n",
        "    return a / b\n",
        "\n",
        "# Example that will throw an exception\n",
        "print(divide_numbers(5, 0))  # Division by zero\n"
      ],
      "metadata": {
        "colab": {
          "base_uri": "https://localhost:8080/"
        },
        "id": "amGscg3pODZb",
        "outputId": "ff5b684e-0378-4ac3-fed3-c9d7f2a0178c"
      },
      "execution_count": 24,
      "outputs": [
        {
          "output_type": "stream",
          "name": "stdout",
          "text": [
            "An error occurred: division by zero\n",
            "None\n"
          ]
        }
      ]
    },
    {
      "cell_type": "code",
      "source": [
        "# ---------------------------\n",
        "# Regular Expressions to Validate Student IDs\n",
        "# ---------------------------\n",
        "import re  # Import regex module\n",
        "\n",
        "def validate_student_id(student_id):\n",
        "    \"\"\"\n",
        "    Validate student ID format to match the pattern 'STU-XXXXX'.\n",
        "    \"\"\"\n",
        "    pattern = r\"^STU-\\d+$\"  # Regex pattern to validate format\n",
        "    if re.match(pattern, student_id):\n",
        "        print(f\"Student ID '{student_id}' is valid.\")\n",
        "        return True\n",
        "    else:\n",
        "        print(f\"Student ID '{student_id}' is invalid.\")\n",
        "        return False\n",
        "\n",
        "# Example Usage\n",
        "student_id_1 = input(\"Enter a Student ID to validate (e.g., STU-12345): \")\n",
        "validate_student_id(student_id_1)\n"
      ],
      "metadata": {
        "colab": {
          "base_uri": "https://localhost:8080/"
        },
        "id": "RkWOpcKbOOz7",
        "outputId": "7e7954aa-7467-4ec6-9880-b71f03f1a42b"
      },
      "execution_count": 26,
      "outputs": [
        {
          "output_type": "stream",
          "name": "stdout",
          "text": [
            "Enter a Student ID to validate (e.g., STU-12345): STU-6\n",
            "Student ID 'STU-6' is valid.\n"
          ]
        },
        {
          "output_type": "execute_result",
          "data": {
            "text/plain": [
              "True"
            ]
          },
          "metadata": {},
          "execution_count": 26
        }
      ]
    },
    {
      "cell_type": "code",
      "source": [
        "import pandas as pd\n",
        "\n",
        "student_data = pd.DataFrame(columns=[\"Student Name\", \"Student ID\", \"Subject\", \"Score\", \"Attendance Percentage\", \"Assignment Completion\"])\n",
        "\n",
        "def add_student_data(student_data):\n",
        "    student_name = input(\"Enter Student Name: \")\n",
        "    student_id = input(\"Enter Student ID : \")\n",
        "    subject = input(\"Enter Subject: \")\n",
        "\n",
        "    try:\n",
        "        score = int(input(\"Enter Score : \"))\n",
        "        attendance = float(input(\"Enter Attendance Percentage : \"))\n",
        "    except ValueError:\n",
        "        print(\"Invalid input. Score and attendance must be numeric.\")\n",
        "        return student_data\n",
        "\n",
        "    assignment_completion = input(\"Assignment Completed? (Yes/No): \")\n",
        "\n",
        "    new_row = pd.DataFrame({\n",
        "        \"Student Name\": [student_name],\n",
        "        \"Student ID\": [student_id],\n",
        "        \"Subject\": [subject],\n",
        "        \"Score\": [score],\n",
        "        \"Attendance Percentage\": [attendance],\n",
        "        \"Assignment Completion\": [assignment_completion]\n",
        "    })\n",
        "\n",
        "    student_data = pd.concat([student_data, new_row], ignore_index=True)\n",
        "    return student_data\n",
        "\n",
        "student_data = add_student_data(student_data)\n",
        "print(student_data)\n"
      ],
      "metadata": {
        "colab": {
          "base_uri": "https://localhost:8080/"
        },
        "id": "uHLCJXkDu3IB",
        "outputId": "fc2f19b3-3ce3-478b-a80e-275277ed2974"
      },
      "execution_count": 28,
      "outputs": [
        {
          "output_type": "stream",
          "name": "stdout",
          "text": [
            "Enter Student Name: Kabir\n",
            "Enter Student ID : Stu-11\n",
            "Enter Subject: English\n",
            "Enter Score : 88\n",
            "Enter Attendance Percentage : 77\n",
            "Assignment Completed? (Yes/No): no\n",
            "  Student Name Student ID  Subject Score  Attendance Percentage  \\\n",
            "0        Kabir     Stu-11  English    88                   77.0   \n",
            "\n",
            "  Assignment Completion  \n",
            "0                    no  \n"
          ]
        },
        {
          "output_type": "stream",
          "name": "stderr",
          "text": [
            "<ipython-input-28-d06cb1e4a084>:28: FutureWarning: The behavior of DataFrame concatenation with empty or all-NA entries is deprecated. In a future version, this will no longer exclude empty or all-NA columns when determining the result dtypes. To retain the old behavior, exclude the relevant entries before the concat operation.\n",
            "  student_data = pd.concat([student_data, new_row], ignore_index=True)\n"
          ]
        }
      ]
    },
    {
      "cell_type": "code",
      "source": [
        "def retrieve_student_data(df):\n",
        "    print(\"\\n--- Retrieve Student Data ---\")\n",
        "\n",
        "\n",
        "\n",
        "    search_value = input(f\"Enter value for Student Name: \")\n",
        "\n",
        "\n",
        "    if \"Student Name\" in df.columns:\n",
        "        filtered_data = df[df[\"Student Name\"] == search_value]\n",
        "        if not filtered_data.empty:\n",
        "            print(filtered_data)\n",
        "        else:\n",
        "            print(\"No matching data found.\")\n",
        "    else:\n",
        "        print(\"Invalid search criteria.\")\n",
        "    return\n",
        "\n",
        "\n",
        "retrieve_student_data(df)\n"
      ],
      "metadata": {
        "colab": {
          "base_uri": "https://localhost:8080/"
        },
        "id": "e9akMs21vwfo",
        "outputId": "85ab256f-12ce-43e3-b9c6-635cf6e772a7"
      },
      "execution_count": null,
      "outputs": [
        {
          "output_type": "stream",
          "name": "stdout",
          "text": [
            "\n",
            "--- Retrieve Student Data ---\n",
            "Enter value for Student Name: Rahim\n",
            "   Student Name Student ID Subject  Score  Attendence Percentage  \\\n",
            "0         Rahim          1    Math     90                     96   \n",
            "10        Rahim          1  Bangla     67                     56   \n",
            "\n",
            "   Assignment completion  \n",
            "0                    yes  \n",
            "10                    no  \n"
          ]
        }
      ]
    },
    {
      "cell_type": "code",
      "source": [
        "def menu_driven_system():\n",
        "    global df\n",
        "    while True:\n",
        "        print(\"\\n--- Student Data Management System ---\")\n",
        "        print(\"1. Add New Student Data\")\n",
        "        print(\"2. Retrieve Student Data\")\n",
        "        print(\"3. Exit\")\n",
        "\n",
        "\n",
        "        choice = input(\"Enter your choice (1/2/3): \")\n",
        "\n",
        "        if choice == \"1\":\n",
        "            student_data = add_student_data(student_data)\n",
        "        elif choice == \"2\":\n",
        "            retrieve_student_data(student_data)\n",
        "        elif choice == \"3\":\n",
        "            print(\"Exiting program. Goodbye!\")\n",
        "            break\n",
        "        else:\n",
        "            print(\"Invalid choice. Please try again.\")\n",
        "\n",
        "\n",
        "menu_driven_system()\n"
      ],
      "metadata": {
        "id": "ALWmrOURy0D2"
      },
      "execution_count": null,
      "outputs": []
    },
    {
      "cell_type": "code",
      "source": [
        "def menu_driven_system():\n",
        "    global df\n",
        "    while True:\n",
        "        print(\"\\n--- Student Data Management System ---\")\n",
        "        print(\"1. Add New Student Data\")\n",
        "        print(\"2. Retrieve Student Data\")\n",
        "        print(\"3. Exit\")\n",
        "\n",
        "\n",
        "        choice = input(\"Enter your choice (1/2/3): \")\n",
        "\n",
        "        if choice == \"1\":\n",
        "            student_data = add_student_data(student_data)\n",
        "        elif choice == \"2\":\n",
        "            retrieve_student_data(student_data)\n",
        "        elif choice == \"3\":\n",
        "            print(\"Exiting program. Goodbye!\")\n",
        "            break\n",
        "        else:\n",
        "            print(\"Invalid choice. Please try again.\")\n",
        "\n",
        "menu_driven_system()\n"
      ],
      "metadata": {
        "id": "T9vRHzz9zoFO"
      },
      "execution_count": null,
      "outputs": []
    },
    {
      "cell_type": "code",
      "source": [
        "def update_student_score(df):\n",
        "\n",
        "\n",
        "\n",
        "    name_to_update = input(\"Enter the Student's Name to Update Their Score: \")\n",
        "    try:\n",
        "        new_score = int(input(\"Enter the new score: \"))\n",
        "    except ValueError:\n",
        "        print(\"Invalid input. Please enter a valid integer for the score.\")\n",
        "        return df\n",
        "\n",
        "\n",
        "    if name_to_update in df[\"Student Name\"].values:\n",
        "        student_data.loc[df[\"Student Name\"] == name_to_update, \"Score\"] = new_score\n",
        "        print(\"Score updated successfully!\")\n",
        "    else:\n",
        "        print(\"Student name not found in the database.\")\n",
        "\n",
        "    return df\n",
        "update_student_score(df)\n"
      ],
      "metadata": {
        "colab": {
          "base_uri": "https://localhost:8080/",
          "height": 746
        },
        "id": "slKPfOaN04W6",
        "outputId": "fe82edb7-828f-4ec3-f236-483aabe5ad6e"
      },
      "execution_count": 31,
      "outputs": [
        {
          "output_type": "stream",
          "name": "stdout",
          "text": [
            "Enter the Student's Name to Update Their Score: Rahim\n",
            "Enter the new score: 30\n",
            "Score updated successfully!\n"
          ]
        },
        {
          "output_type": "execute_result",
          "data": {
            "text/plain": [
              "   Student Name Student ID  Subject  Score  Attendence Percentage  \\\n",
              "0         Rahim      STU-1     Math     90                     96   \n",
              "1         Karim      STU-2  Science     88                     82   \n",
              "2         Salam      STU-3     Math     76                     75   \n",
              "3         Kamal      STU-4  English     85                     93   \n",
              "4         Jamal      STU-5   Bangla     82                     90   \n",
              "5         Rafiq      STU-6  Science     94                     78   \n",
              "6        Shafiq      STU-7  Science     79                     45   \n",
              "7        Rahima      STU-8     Math     95                     76   \n",
              "8        Karima      STU-9  English     88                     76   \n",
              "9        Jamila     STU-10   Bangla     73                     86   \n",
              "10        Rahim     STU-11   Bangla     67                     56   \n",
              "11        Karim     STU-12  English     89                     98   \n",
              "12        Salam     STU-13   Bangla     76                     76   \n",
              "13        Kamal     STU-14     Math     41                     89   \n",
              "14        Jamal     STU-15  Science     56                     85   \n",
              "15        Rafiq     STU-16     Math     84                     87   \n",
              "16       Shafiq     STU-17     Math     55                     96   \n",
              "17       Rahima     STU-18  English     66                     99   \n",
              "18       Karima     STU-19  Science     73                     90   \n",
              "19        kabir     STU-21      Art     83                     99   \n",
              "\n",
              "   Assignment completion  \n",
              "0                    yes  \n",
              "1                    yes  \n",
              "2                     no  \n",
              "3                    yes  \n",
              "4                    yes  \n",
              "5                     no  \n",
              "6                    yes  \n",
              "7                    yes  \n",
              "8                     no  \n",
              "9                    yes  \n",
              "10                    no  \n",
              "11                   yes  \n",
              "12                    no  \n",
              "13                   yes  \n",
              "14                   yes  \n",
              "15                   yes  \n",
              "16                   yes  \n",
              "17                   yes  \n",
              "18                    no  \n",
              "19                   NaN  "
            ],
            "text/html": [
              "\n",
              "  <div id=\"df-80fd4e55-39b5-4d8b-96ee-37cf9457ccd6\" class=\"colab-df-container\">\n",
              "    <div>\n",
              "<style scoped>\n",
              "    .dataframe tbody tr th:only-of-type {\n",
              "        vertical-align: middle;\n",
              "    }\n",
              "\n",
              "    .dataframe tbody tr th {\n",
              "        vertical-align: top;\n",
              "    }\n",
              "\n",
              "    .dataframe thead th {\n",
              "        text-align: right;\n",
              "    }\n",
              "</style>\n",
              "<table border=\"1\" class=\"dataframe\">\n",
              "  <thead>\n",
              "    <tr style=\"text-align: right;\">\n",
              "      <th></th>\n",
              "      <th>Student Name</th>\n",
              "      <th>Student ID</th>\n",
              "      <th>Subject</th>\n",
              "      <th>Score</th>\n",
              "      <th>Attendence Percentage</th>\n",
              "      <th>Assignment completion</th>\n",
              "    </tr>\n",
              "  </thead>\n",
              "  <tbody>\n",
              "    <tr>\n",
              "      <th>0</th>\n",
              "      <td>Rahim</td>\n",
              "      <td>STU-1</td>\n",
              "      <td>Math</td>\n",
              "      <td>90</td>\n",
              "      <td>96</td>\n",
              "      <td>yes</td>\n",
              "    </tr>\n",
              "    <tr>\n",
              "      <th>1</th>\n",
              "      <td>Karim</td>\n",
              "      <td>STU-2</td>\n",
              "      <td>Science</td>\n",
              "      <td>88</td>\n",
              "      <td>82</td>\n",
              "      <td>yes</td>\n",
              "    </tr>\n",
              "    <tr>\n",
              "      <th>2</th>\n",
              "      <td>Salam</td>\n",
              "      <td>STU-3</td>\n",
              "      <td>Math</td>\n",
              "      <td>76</td>\n",
              "      <td>75</td>\n",
              "      <td>no</td>\n",
              "    </tr>\n",
              "    <tr>\n",
              "      <th>3</th>\n",
              "      <td>Kamal</td>\n",
              "      <td>STU-4</td>\n",
              "      <td>English</td>\n",
              "      <td>85</td>\n",
              "      <td>93</td>\n",
              "      <td>yes</td>\n",
              "    </tr>\n",
              "    <tr>\n",
              "      <th>4</th>\n",
              "      <td>Jamal</td>\n",
              "      <td>STU-5</td>\n",
              "      <td>Bangla</td>\n",
              "      <td>82</td>\n",
              "      <td>90</td>\n",
              "      <td>yes</td>\n",
              "    </tr>\n",
              "    <tr>\n",
              "      <th>5</th>\n",
              "      <td>Rafiq</td>\n",
              "      <td>STU-6</td>\n",
              "      <td>Science</td>\n",
              "      <td>94</td>\n",
              "      <td>78</td>\n",
              "      <td>no</td>\n",
              "    </tr>\n",
              "    <tr>\n",
              "      <th>6</th>\n",
              "      <td>Shafiq</td>\n",
              "      <td>STU-7</td>\n",
              "      <td>Science</td>\n",
              "      <td>79</td>\n",
              "      <td>45</td>\n",
              "      <td>yes</td>\n",
              "    </tr>\n",
              "    <tr>\n",
              "      <th>7</th>\n",
              "      <td>Rahima</td>\n",
              "      <td>STU-8</td>\n",
              "      <td>Math</td>\n",
              "      <td>95</td>\n",
              "      <td>76</td>\n",
              "      <td>yes</td>\n",
              "    </tr>\n",
              "    <tr>\n",
              "      <th>8</th>\n",
              "      <td>Karima</td>\n",
              "      <td>STU-9</td>\n",
              "      <td>English</td>\n",
              "      <td>88</td>\n",
              "      <td>76</td>\n",
              "      <td>no</td>\n",
              "    </tr>\n",
              "    <tr>\n",
              "      <th>9</th>\n",
              "      <td>Jamila</td>\n",
              "      <td>STU-10</td>\n",
              "      <td>Bangla</td>\n",
              "      <td>73</td>\n",
              "      <td>86</td>\n",
              "      <td>yes</td>\n",
              "    </tr>\n",
              "    <tr>\n",
              "      <th>10</th>\n",
              "      <td>Rahim</td>\n",
              "      <td>STU-11</td>\n",
              "      <td>Bangla</td>\n",
              "      <td>67</td>\n",
              "      <td>56</td>\n",
              "      <td>no</td>\n",
              "    </tr>\n",
              "    <tr>\n",
              "      <th>11</th>\n",
              "      <td>Karim</td>\n",
              "      <td>STU-12</td>\n",
              "      <td>English</td>\n",
              "      <td>89</td>\n",
              "      <td>98</td>\n",
              "      <td>yes</td>\n",
              "    </tr>\n",
              "    <tr>\n",
              "      <th>12</th>\n",
              "      <td>Salam</td>\n",
              "      <td>STU-13</td>\n",
              "      <td>Bangla</td>\n",
              "      <td>76</td>\n",
              "      <td>76</td>\n",
              "      <td>no</td>\n",
              "    </tr>\n",
              "    <tr>\n",
              "      <th>13</th>\n",
              "      <td>Kamal</td>\n",
              "      <td>STU-14</td>\n",
              "      <td>Math</td>\n",
              "      <td>41</td>\n",
              "      <td>89</td>\n",
              "      <td>yes</td>\n",
              "    </tr>\n",
              "    <tr>\n",
              "      <th>14</th>\n",
              "      <td>Jamal</td>\n",
              "      <td>STU-15</td>\n",
              "      <td>Science</td>\n",
              "      <td>56</td>\n",
              "      <td>85</td>\n",
              "      <td>yes</td>\n",
              "    </tr>\n",
              "    <tr>\n",
              "      <th>15</th>\n",
              "      <td>Rafiq</td>\n",
              "      <td>STU-16</td>\n",
              "      <td>Math</td>\n",
              "      <td>84</td>\n",
              "      <td>87</td>\n",
              "      <td>yes</td>\n",
              "    </tr>\n",
              "    <tr>\n",
              "      <th>16</th>\n",
              "      <td>Shafiq</td>\n",
              "      <td>STU-17</td>\n",
              "      <td>Math</td>\n",
              "      <td>55</td>\n",
              "      <td>96</td>\n",
              "      <td>yes</td>\n",
              "    </tr>\n",
              "    <tr>\n",
              "      <th>17</th>\n",
              "      <td>Rahima</td>\n",
              "      <td>STU-18</td>\n",
              "      <td>English</td>\n",
              "      <td>66</td>\n",
              "      <td>99</td>\n",
              "      <td>yes</td>\n",
              "    </tr>\n",
              "    <tr>\n",
              "      <th>18</th>\n",
              "      <td>Karima</td>\n",
              "      <td>STU-19</td>\n",
              "      <td>Science</td>\n",
              "      <td>73</td>\n",
              "      <td>90</td>\n",
              "      <td>no</td>\n",
              "    </tr>\n",
              "    <tr>\n",
              "      <th>19</th>\n",
              "      <td>kabir</td>\n",
              "      <td>STU-21</td>\n",
              "      <td>Art</td>\n",
              "      <td>83</td>\n",
              "      <td>99</td>\n",
              "      <td>NaN</td>\n",
              "    </tr>\n",
              "  </tbody>\n",
              "</table>\n",
              "</div>\n",
              "    <div class=\"colab-df-buttons\">\n",
              "\n",
              "  <div class=\"colab-df-container\">\n",
              "    <button class=\"colab-df-convert\" onclick=\"convertToInteractive('df-80fd4e55-39b5-4d8b-96ee-37cf9457ccd6')\"\n",
              "            title=\"Convert this dataframe to an interactive table.\"\n",
              "            style=\"display:none;\">\n",
              "\n",
              "  <svg xmlns=\"http://www.w3.org/2000/svg\" height=\"24px\" viewBox=\"0 -960 960 960\">\n",
              "    <path d=\"M120-120v-720h720v720H120Zm60-500h600v-160H180v160Zm220 220h160v-160H400v160Zm0 220h160v-160H400v160ZM180-400h160v-160H180v160Zm440 0h160v-160H620v160ZM180-180h160v-160H180v160Zm440 0h160v-160H620v160Z\"/>\n",
              "  </svg>\n",
              "    </button>\n",
              "\n",
              "  <style>\n",
              "    .colab-df-container {\n",
              "      display:flex;\n",
              "      gap: 12px;\n",
              "    }\n",
              "\n",
              "    .colab-df-convert {\n",
              "      background-color: #E8F0FE;\n",
              "      border: none;\n",
              "      border-radius: 50%;\n",
              "      cursor: pointer;\n",
              "      display: none;\n",
              "      fill: #1967D2;\n",
              "      height: 32px;\n",
              "      padding: 0 0 0 0;\n",
              "      width: 32px;\n",
              "    }\n",
              "\n",
              "    .colab-df-convert:hover {\n",
              "      background-color: #E2EBFA;\n",
              "      box-shadow: 0px 1px 2px rgba(60, 64, 67, 0.3), 0px 1px 3px 1px rgba(60, 64, 67, 0.15);\n",
              "      fill: #174EA6;\n",
              "    }\n",
              "\n",
              "    .colab-df-buttons div {\n",
              "      margin-bottom: 4px;\n",
              "    }\n",
              "\n",
              "    [theme=dark] .colab-df-convert {\n",
              "      background-color: #3B4455;\n",
              "      fill: #D2E3FC;\n",
              "    }\n",
              "\n",
              "    [theme=dark] .colab-df-convert:hover {\n",
              "      background-color: #434B5C;\n",
              "      box-shadow: 0px 1px 3px 1px rgba(0, 0, 0, 0.15);\n",
              "      filter: drop-shadow(0px 1px 2px rgba(0, 0, 0, 0.3));\n",
              "      fill: #FFFFFF;\n",
              "    }\n",
              "  </style>\n",
              "\n",
              "    <script>\n",
              "      const buttonEl =\n",
              "        document.querySelector('#df-80fd4e55-39b5-4d8b-96ee-37cf9457ccd6 button.colab-df-convert');\n",
              "      buttonEl.style.display =\n",
              "        google.colab.kernel.accessAllowed ? 'block' : 'none';\n",
              "\n",
              "      async function convertToInteractive(key) {\n",
              "        const element = document.querySelector('#df-80fd4e55-39b5-4d8b-96ee-37cf9457ccd6');\n",
              "        const dataTable =\n",
              "          await google.colab.kernel.invokeFunction('convertToInteractive',\n",
              "                                                    [key], {});\n",
              "        if (!dataTable) return;\n",
              "\n",
              "        const docLinkHtml = 'Like what you see? Visit the ' +\n",
              "          '<a target=\"_blank\" href=https://colab.research.google.com/notebooks/data_table.ipynb>data table notebook</a>'\n",
              "          + ' to learn more about interactive tables.';\n",
              "        element.innerHTML = '';\n",
              "        dataTable['output_type'] = 'display_data';\n",
              "        await google.colab.output.renderOutput(dataTable, element);\n",
              "        const docLink = document.createElement('div');\n",
              "        docLink.innerHTML = docLinkHtml;\n",
              "        element.appendChild(docLink);\n",
              "      }\n",
              "    </script>\n",
              "  </div>\n",
              "\n",
              "\n",
              "<div id=\"df-7176668a-509c-4ab1-849e-ff314299566d\">\n",
              "  <button class=\"colab-df-quickchart\" onclick=\"quickchart('df-7176668a-509c-4ab1-849e-ff314299566d')\"\n",
              "            title=\"Suggest charts\"\n",
              "            style=\"display:none;\">\n",
              "\n",
              "<svg xmlns=\"http://www.w3.org/2000/svg\" height=\"24px\"viewBox=\"0 0 24 24\"\n",
              "     width=\"24px\">\n",
              "    <g>\n",
              "        <path d=\"M19 3H5c-1.1 0-2 .9-2 2v14c0 1.1.9 2 2 2h14c1.1 0 2-.9 2-2V5c0-1.1-.9-2-2-2zM9 17H7v-7h2v7zm4 0h-2V7h2v10zm4 0h-2v-4h2v4z\"/>\n",
              "    </g>\n",
              "</svg>\n",
              "  </button>\n",
              "\n",
              "<style>\n",
              "  .colab-df-quickchart {\n",
              "      --bg-color: #E8F0FE;\n",
              "      --fill-color: #1967D2;\n",
              "      --hover-bg-color: #E2EBFA;\n",
              "      --hover-fill-color: #174EA6;\n",
              "      --disabled-fill-color: #AAA;\n",
              "      --disabled-bg-color: #DDD;\n",
              "  }\n",
              "\n",
              "  [theme=dark] .colab-df-quickchart {\n",
              "      --bg-color: #3B4455;\n",
              "      --fill-color: #D2E3FC;\n",
              "      --hover-bg-color: #434B5C;\n",
              "      --hover-fill-color: #FFFFFF;\n",
              "      --disabled-bg-color: #3B4455;\n",
              "      --disabled-fill-color: #666;\n",
              "  }\n",
              "\n",
              "  .colab-df-quickchart {\n",
              "    background-color: var(--bg-color);\n",
              "    border: none;\n",
              "    border-radius: 50%;\n",
              "    cursor: pointer;\n",
              "    display: none;\n",
              "    fill: var(--fill-color);\n",
              "    height: 32px;\n",
              "    padding: 0;\n",
              "    width: 32px;\n",
              "  }\n",
              "\n",
              "  .colab-df-quickchart:hover {\n",
              "    background-color: var(--hover-bg-color);\n",
              "    box-shadow: 0 1px 2px rgba(60, 64, 67, 0.3), 0 1px 3px 1px rgba(60, 64, 67, 0.15);\n",
              "    fill: var(--button-hover-fill-color);\n",
              "  }\n",
              "\n",
              "  .colab-df-quickchart-complete:disabled,\n",
              "  .colab-df-quickchart-complete:disabled:hover {\n",
              "    background-color: var(--disabled-bg-color);\n",
              "    fill: var(--disabled-fill-color);\n",
              "    box-shadow: none;\n",
              "  }\n",
              "\n",
              "  .colab-df-spinner {\n",
              "    border: 2px solid var(--fill-color);\n",
              "    border-color: transparent;\n",
              "    border-bottom-color: var(--fill-color);\n",
              "    animation:\n",
              "      spin 1s steps(1) infinite;\n",
              "  }\n",
              "\n",
              "  @keyframes spin {\n",
              "    0% {\n",
              "      border-color: transparent;\n",
              "      border-bottom-color: var(--fill-color);\n",
              "      border-left-color: var(--fill-color);\n",
              "    }\n",
              "    20% {\n",
              "      border-color: transparent;\n",
              "      border-left-color: var(--fill-color);\n",
              "      border-top-color: var(--fill-color);\n",
              "    }\n",
              "    30% {\n",
              "      border-color: transparent;\n",
              "      border-left-color: var(--fill-color);\n",
              "      border-top-color: var(--fill-color);\n",
              "      border-right-color: var(--fill-color);\n",
              "    }\n",
              "    40% {\n",
              "      border-color: transparent;\n",
              "      border-right-color: var(--fill-color);\n",
              "      border-top-color: var(--fill-color);\n",
              "    }\n",
              "    60% {\n",
              "      border-color: transparent;\n",
              "      border-right-color: var(--fill-color);\n",
              "    }\n",
              "    80% {\n",
              "      border-color: transparent;\n",
              "      border-right-color: var(--fill-color);\n",
              "      border-bottom-color: var(--fill-color);\n",
              "    }\n",
              "    90% {\n",
              "      border-color: transparent;\n",
              "      border-bottom-color: var(--fill-color);\n",
              "    }\n",
              "  }\n",
              "</style>\n",
              "\n",
              "  <script>\n",
              "    async function quickchart(key) {\n",
              "      const quickchartButtonEl =\n",
              "        document.querySelector('#' + key + ' button');\n",
              "      quickchartButtonEl.disabled = true;  // To prevent multiple clicks.\n",
              "      quickchartButtonEl.classList.add('colab-df-spinner');\n",
              "      try {\n",
              "        const charts = await google.colab.kernel.invokeFunction(\n",
              "            'suggestCharts', [key], {});\n",
              "      } catch (error) {\n",
              "        console.error('Error during call to suggestCharts:', error);\n",
              "      }\n",
              "      quickchartButtonEl.classList.remove('colab-df-spinner');\n",
              "      quickchartButtonEl.classList.add('colab-df-quickchart-complete');\n",
              "    }\n",
              "    (() => {\n",
              "      let quickchartButtonEl =\n",
              "        document.querySelector('#df-7176668a-509c-4ab1-849e-ff314299566d button');\n",
              "      quickchartButtonEl.style.display =\n",
              "        google.colab.kernel.accessAllowed ? 'block' : 'none';\n",
              "    })();\n",
              "  </script>\n",
              "</div>\n",
              "\n",
              "  <div id=\"id_851e2944-c433-42a9-89ea-240fe5e0f80b\">\n",
              "    <style>\n",
              "      .colab-df-generate {\n",
              "        background-color: #E8F0FE;\n",
              "        border: none;\n",
              "        border-radius: 50%;\n",
              "        cursor: pointer;\n",
              "        display: none;\n",
              "        fill: #1967D2;\n",
              "        height: 32px;\n",
              "        padding: 0 0 0 0;\n",
              "        width: 32px;\n",
              "      }\n",
              "\n",
              "      .colab-df-generate:hover {\n",
              "        background-color: #E2EBFA;\n",
              "        box-shadow: 0px 1px 2px rgba(60, 64, 67, 0.3), 0px 1px 3px 1px rgba(60, 64, 67, 0.15);\n",
              "        fill: #174EA6;\n",
              "      }\n",
              "\n",
              "      [theme=dark] .colab-df-generate {\n",
              "        background-color: #3B4455;\n",
              "        fill: #D2E3FC;\n",
              "      }\n",
              "\n",
              "      [theme=dark] .colab-df-generate:hover {\n",
              "        background-color: #434B5C;\n",
              "        box-shadow: 0px 1px 3px 1px rgba(0, 0, 0, 0.15);\n",
              "        filter: drop-shadow(0px 1px 2px rgba(0, 0, 0, 0.3));\n",
              "        fill: #FFFFFF;\n",
              "      }\n",
              "    </style>\n",
              "    <button class=\"colab-df-generate\" onclick=\"generateWithVariable('df')\"\n",
              "            title=\"Generate code using this dataframe.\"\n",
              "            style=\"display:none;\">\n",
              "\n",
              "  <svg xmlns=\"http://www.w3.org/2000/svg\" height=\"24px\"viewBox=\"0 0 24 24\"\n",
              "       width=\"24px\">\n",
              "    <path d=\"M7,19H8.4L18.45,9,17,7.55,7,17.6ZM5,21V16.75L18.45,3.32a2,2,0,0,1,2.83,0l1.4,1.43a1.91,1.91,0,0,1,.58,1.4,1.91,1.91,0,0,1-.58,1.4L9.25,21ZM18.45,9,17,7.55Zm-12,3A5.31,5.31,0,0,0,4.9,8.1,5.31,5.31,0,0,0,1,6.5,5.31,5.31,0,0,0,4.9,4.9,5.31,5.31,0,0,0,6.5,1,5.31,5.31,0,0,0,8.1,4.9,5.31,5.31,0,0,0,12,6.5,5.46,5.46,0,0,0,6.5,12Z\"/>\n",
              "  </svg>\n",
              "    </button>\n",
              "    <script>\n",
              "      (() => {\n",
              "      const buttonEl =\n",
              "        document.querySelector('#id_851e2944-c433-42a9-89ea-240fe5e0f80b button.colab-df-generate');\n",
              "      buttonEl.style.display =\n",
              "        google.colab.kernel.accessAllowed ? 'block' : 'none';\n",
              "\n",
              "      buttonEl.onclick = () => {\n",
              "        google.colab.notebook.generateWithVariable('df');\n",
              "      }\n",
              "      })();\n",
              "    </script>\n",
              "  </div>\n",
              "\n",
              "    </div>\n",
              "  </div>\n"
            ],
            "application/vnd.google.colaboratory.intrinsic+json": {
              "type": "dataframe",
              "variable_name": "df",
              "summary": "{\n  \"name\": \"df\",\n  \"rows\": 20,\n  \"fields\": [\n    {\n      \"column\": \"Student Name\",\n      \"properties\": {\n        \"dtype\": \"string\",\n        \"num_unique_values\": 11,\n        \"samples\": [\n          \"Rafiq\",\n          \"Rahim\",\n          \"Jamila\"\n        ],\n        \"semantic_type\": \"\",\n        \"description\": \"\"\n      }\n    },\n    {\n      \"column\": \"Student ID\",\n      \"properties\": {\n        \"dtype\": \"string\",\n        \"num_unique_values\": 20,\n        \"samples\": [\n          \"STU-1\",\n          \"STU-18\",\n          \"STU-16\"\n        ],\n        \"semantic_type\": \"\",\n        \"description\": \"\"\n      }\n    },\n    {\n      \"column\": \"Subject\",\n      \"properties\": {\n        \"dtype\": \"category\",\n        \"num_unique_values\": 5,\n        \"samples\": [\n          \"Science\",\n          \"Art\",\n          \"English\"\n        ],\n        \"semantic_type\": \"\",\n        \"description\": \"\"\n      }\n    },\n    {\n      \"column\": \"Score\",\n      \"properties\": {\n        \"dtype\": \"number\",\n        \"std\": 14,\n        \"min\": 41,\n        \"max\": 95,\n        \"num_unique_values\": 17,\n        \"samples\": [\n          90,\n          88,\n          94\n        ],\n        \"semantic_type\": \"\",\n        \"description\": \"\"\n      }\n    },\n    {\n      \"column\": \"Attendence Percentage\",\n      \"properties\": {\n        \"dtype\": \"number\",\n        \"std\": 14,\n        \"min\": 45,\n        \"max\": 99,\n        \"num_unique_values\": 15,\n        \"samples\": [\n          56,\n          89,\n          96\n        ],\n        \"semantic_type\": \"\",\n        \"description\": \"\"\n      }\n    },\n    {\n      \"column\": \"Assignment completion\",\n      \"properties\": {\n        \"dtype\": \"category\",\n        \"num_unique_values\": 2,\n        \"samples\": [\n          \"no\",\n          \"yes\"\n        ],\n        \"semantic_type\": \"\",\n        \"description\": \"\"\n      }\n    }\n  ]\n}"
            }
          },
          "metadata": {},
          "execution_count": 31
        }
      ]
    },
    {
      "cell_type": "code",
      "source": [],
      "metadata": {
        "id": "KxghLqXz12AG"
      },
      "execution_count": null,
      "outputs": []
    }
  ]
}